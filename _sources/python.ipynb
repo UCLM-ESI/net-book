{
 "cells": [
  {
   "attachments": {},
   "cell_type": "markdown",
   "id": "2db72c90-4f24-45dd-858e-bf190209b541",
   "metadata": {},
   "source": [
    "# Python"
   ]
  },
  {
   "cell_type": "code",
   "execution_count": 17,
   "id": "4672bc55",
   "metadata": {
    "tags": [
     "hide-cell"
    ]
   },
   "outputs": [],
   "source": [
    "# Un pequeño ajuste de configuración para simplificar el uso de jupyter notebook en los ejemplos\n",
    "from IPython.core.interactiveshell import InteractiveShell\n",
    "InteractiveShell.ast_node_interactivity = \"all\""
   ]
  },
  {
   "attachments": {},
   "cell_type": "markdown",
   "id": "d92a3ade",
   "metadata": {},
   "source": [
    "## ¿Qué es Python?\n",
    "\n",
    "Python es un lenguaje de programación orientado a objetos con soporte a múltiples paradigmas de programación, como programación imperativa, funcional o asíncrona.\n",
    "\n",
    "Es un lenguaje considerado multipropósito, ya que tiene desde librerías para acceder a operaciones de bajo nivel como para desarrollar aplicaciones multi hilo, multi proceso, distribuídas, bases de datos, interfaces gráficas, manejo de datos, juegos, gráficos 3D, cálculo científico, machine learning...\n",
    "\n",
    "Es considerado uno de los lenguajes más sencillos de aprender y es muy adecuado por su sintaxis para el aprendizaje de programación a alto nivel, ya que proporciona todas las herramientas habituales y estructuras de control típicas de todos los lenguajes de programación.\n",
    "\n",
    "### Interpretado o compilado\n",
    "\n",
    "La respuesta corta es **interpretado**, ya que los programas Python se ejecutan habitualmente utilizando el intérprete oficial, que toma el código fuente y lo ejecuta.\n",
    "\n",
    "En realidad, el intérprete hace una compilación previa a _bytecode_, que es ejecutado por el mismo intérprete. También existes otras implementaciones de Python en la que el \"intérprete\" es en realidad un compilador y genera ficheros binarios ejecutables dependientes de la plataforma, como si de C se tratara.\n",
    "\n",
    "### Versiones de Python\n",
    "\n",
    "Aunque es raro a día de encontrarnos con versiones antiguas de Python, históricamente algunas distribuciones mantienen el paquete para Python 2.7 (última versión liberada de Python 2.X).\n",
    "\n",
    "Aunque sea contraintuitivo, Python 2.X y Python 3.X son dos lenguajes que se consideran diferentes. El código escrito para Python 2.X no es, por defecto, compatible con Python 3.X.\n",
    "\n",
    "La versión más reciente de Python es la [3.11.2](https://www.python.org/downloads/), aunque para los ejemplos de este documento servirá cualquier versión de Python posterior a la 3.6.\n",
    "\n",
    "Este tutorial está escrito sobre un intérprete de Python 3.9.16 utilizando Jupyter Notebook."
   ]
  },
  {
   "cell_type": "markdown",
   "id": "a0c6dffc-9dd2-41eb-84eb-4f9b5b055788",
   "metadata": {},
   "source": [
    "## Indentación estricta\n",
    "\n",
    "Una de las señas de identidad más características de Python es la **obligación** de utilizar indentación.\n",
    "\n",
    "Al contrario que otros lenguajes donde la indentación de los bloques de código es meramente estética, Python lo utiliza para definir los bloques de código.\n",
    "\n",
    "La única norma que el lenguaje necesita es que todos los elementos del mismo bloque de código estén indentandos de la misma forma, sea con espacios, tabuladores...\n",
    "\n",
    "Como guía de estilo se **recomienda encarecidamente** respetar el mismo tipo de indentación a lo largo de todo el fichero o proyecto. Además, la [guía de estilo de Python](https://peps.python.org/pep-0008/) recomienda usar indentación blanda a 4 espacios.\n",
    "\n",
    "Algo importante a tener en cuenta es que, aunque en muchos editores un tabulador equivale a 4 espacios, son 2 carácteres diferentes, y si se carga en otro editor, la representación del tabulador puede variar y no coincidir.\n",
    "\n",
    "Utilizando un IDE adecuado, esto no debería ser ningún problema.\n",
    "\n",
    "Más adelante veremos ejemplos en los que se muestra cómo funciona la indentación de bloques."
   ]
  },
  {
   "cell_type": "markdown",
   "id": "f6c24ee2-e0b8-44a3-9a1a-da629b5d2500",
   "metadata": {},
   "source": [
    "## Variables y tipos\n",
    "\n",
    "Python es un lenguaje de tipado fuerte y dinámico:\n",
    "\n",
    "### Tipado fuerte\n",
    "\n",
    "Python no permite hacer operaciones entre diferentes tipos de forma explícita:"
   ]
  },
  {
   "cell_type": "code",
   "execution_count": 18,
   "id": "1b376d42-af15-49fc-a546-e5464ebbcecc",
   "metadata": {
    "tags": [
     "raises-exception"
    ]
   },
   "outputs": [
    {
     "ename": "TypeError",
     "evalue": "can only concatenate str (not \"int\") to str",
     "output_type": "error",
     "traceback": [
      "\u001b[0;31m---------------------------------------------------------------------------\u001b[0m",
      "\u001b[0;31mTypeError\u001b[0m                                 Traceback (most recent call last)",
      "Cell \u001b[0;32mIn[18], line 2\u001b[0m\n\u001b[1;32m      1\u001b[0m a \u001b[39m=\u001b[39m \u001b[39m\"\u001b[39m\u001b[39mHola\u001b[39m\u001b[39m\"\u001b[39m\n\u001b[0;32m----> 2\u001b[0m a \u001b[39m+\u001b[39;49m \u001b[39m1\u001b[39;49m\n",
      "\u001b[0;31mTypeError\u001b[0m: can only concatenate str (not \"int\") to str"
     ]
    }
   ],
   "source": [
    "a = \"Hola\"\n",
    "a + 1"
   ]
  },
  {
   "cell_type": "markdown",
   "id": "60d019bc-fa14-4395-8d7a-296b415c4a9c",
   "metadata": {},
   "source": [
    "La operación ha lanzado el error `TypeError` y nos indica que no se puede usar la operación `+`, que para el tipo cadena implica la concatenación, pasándole un número entero.\n",
    "\n",
    "### Tipado dinámico\n",
    "\n",
    "Como se ha visto en el ejemplo anterior, en ningún momento indicamos que la variable `a` va a ser de tipo cadena, simplemente la asignamos y Python decide el tipo en función del valor de asignación.\n",
    "\n",
    "Asimismo, podemos cambiar dinámicamente el tipo de una variable. En realidad, Python destruye la variable definida previamente y crea una nueva con el mismo nombre."
   ]
  },
  {
   "cell_type": "code",
   "execution_count": null,
   "id": "0878b36b-8578-4f11-aafa-9eaadfe67cf1",
   "metadata": {
    "tags": []
   },
   "outputs": [
    {
     "data": {
      "text/plain": [
       "'Hola'"
      ]
     },
     "execution_count": 45,
     "metadata": {},
     "output_type": "execute_result"
    },
    {
     "data": {
      "text/plain": [
       "5"
      ]
     },
     "execution_count": 45,
     "metadata": {},
     "output_type": "execute_result"
    }
   ],
   "source": [
    "a = \"Hola\"\n",
    "a\n",
    "a = 5\n",
    "a"
   ]
  },
  {
   "attachments": {},
   "cell_type": "markdown",
   "id": "f81ace0a-3d9c-4138-813e-55655b82e21e",
   "metadata": {},
   "source": [
    "## Tipos de datos\n",
    "\n",
    "### Valor nulo\n",
    "\n",
    "Para definir una variable sin inicializar ni su tipo ni su valor, se puede usar `None`.\n",
    "\n",
    "```{important}\n",
    "\n",
    "Cuando queramos hacer la comprobación de si una variable tiene el valor `None` deberemos utilizar el operador de comparación `is` en lugar del habitual de comparación, lo veremos más adelante.\n",
    "```\n",
    "\n",
    "### Booleanos"
   ]
  },
  {
   "cell_type": "code",
   "execution_count": null,
   "id": "4060e6cf-3c01-4744-8d36-59804fc3bb2c",
   "metadata": {
    "tags": []
   },
   "outputs": [
    {
     "name": "stdout",
     "output_type": "stream",
     "text": [
      "True\n",
      "False\n",
      "False\n"
     ]
    }
   ],
   "source": [
    "a = True\n",
    "a\n",
    "b = False\n",
    "b\n",
    "c = 5 == 10\n",
    "c"
   ]
  },
  {
   "cell_type": "markdown",
   "id": "14643adc-e499-40ba-a0a5-854dbea715e0",
   "metadata": {},
   "source": [
    "### Valores numéricos\n",
    "\n",
    "Al contrario que en otros lenguajes, donde los tipos de datos pueden presentar diferentes tamaños (enteros desde 8 a 64 bits, punto flotanto, doble precisión...), en Python los tipos numéricos pueden almacenar valores tan altos como permita la memoria del programa y la compuadora donde se ejecute.\n",
    "\n",
    "Los 3 tipos numéricos básicos son `int`, `float` y `complex`:"
   ]
  },
  {
   "cell_type": "code",
   "execution_count": null,
   "id": "39c2084a-475f-41ff-b7bd-44996bacff04",
   "metadata": {
    "tags": []
   },
   "outputs": [
    {
     "name": "stdout",
     "output_type": "stream",
     "text": [
      "8.14\n",
      "(9.14+5j)\n"
     ]
    }
   ],
   "source": [
    "a = 5\n",
    "b = 3.14\n",
    "c = 1 + 5j\n",
    "\n",
    "a + b\n",
    "a + b + c"
   ]
  },
  {
   "cell_type": "markdown",
   "id": "b841c69b-1914-4478-8db0-e21ea04d598f",
   "metadata": {},
   "source": [
    "### Secuencias\n",
    "\n",
    "Los tipos de secuencia en Python son `str`, `bytes`, `tuple` y `list`\n",
    "\n",
    "#### `str`\n",
    "\n",
    "Representa a una cadena de texto habitual, que contenga caracteres imprimibles. Las cadenas permiten operaciones como la suma y la multiplicación:"
   ]
  },
  {
   "cell_type": "code",
   "execution_count": null,
   "id": "05e9d0c6-a3dc-47c8-a4bd-3d0b7ed2f28b",
   "metadata": {
    "tags": []
   },
   "outputs": [
    {
     "name": "stdout",
     "output_type": "stream",
     "text": [
      "Hola mundo\n",
      "\\o/ \\o/ \\o/ \\o/ \\o/ \\o/ \\o/ \\o/ \\o/ \\o/ \\o/ \\o/ \\o/ \\o/ \\o/ \\o/ \\o/ \\o/ \\o/ \\o/ \n"
     ]
    }
   ],
   "source": [
    "\"Hola\" + \" mundo\"\n",
    "\"\\o/ \" * 20"
   ]
  },
  {
   "attachments": {},
   "cell_type": "markdown",
   "id": "a0ab740e-41ea-4456-8f8e-f520db29b206",
   "metadata": {
    "tags": []
   },
   "source": [
    "#### `bytes`\n",
    "\n",
    "Es un tipo muy similar al anterior, pero en vez de secuencias de caracteres, permite manejar secuencias de bytes. Las operaciones de lectura y escritura de bajo nivel en ficheros o dispositivos pueden ser realizadas con secuencias de `bytes`, y también la recepción y envío de datos a través de sockets.\n",
    "\n",
    "Debemos tener en cuenta que podemos transformar cadenas de carácteres en cadenas de bytes y viceversa. Es realmente importante entender la diferencia entre ambos tipos de datos, así como entender cómo transformar entre ellos."
   ]
  },
  {
   "cell_type": "code",
   "execution_count": null,
   "id": "b847e539-4f1e-43b1-bebb-3e9051a05bf1",
   "metadata": {
    "tags": []
   },
   "outputs": [
    {
     "data": {
      "text/plain": [
       "b'Hello world'"
      ]
     },
     "execution_count": 67,
     "metadata": {},
     "output_type": "execute_result"
    },
    {
     "data": {
      "text/plain": [
       "b'\\x00\\x01\\x02'"
      ]
     },
     "execution_count": 67,
     "metadata": {},
     "output_type": "execute_result"
    },
    {
     "data": {
      "text/plain": [
       "b'\\xc3\\xb1and\\xc3\\xba'"
      ]
     },
     "execution_count": 67,
     "metadata": {},
     "output_type": "execute_result"
    },
    {
     "data": {
      "text/plain": [
       "'Hello world'"
      ]
     },
     "execution_count": 67,
     "metadata": {},
     "output_type": "execute_result"
    },
    {
     "data": {
      "text/plain": [
       "'\\x00\\x01\\x02'"
      ]
     },
     "execution_count": 67,
     "metadata": {},
     "output_type": "execute_result"
    }
   ],
   "source": [
    "b = b\"Hello world\"\n",
    "c = b\"\\x00\\x01\\x02\"\n",
    "d = \"ñandú\".encode()\n",
    "\n",
    "b\n",
    "c\n",
    "d\n",
    "b.decode()\n",
    "c.decode()"
   ]
  },
  {
   "attachments": {},
   "cell_type": "markdown",
   "id": "28465b73-7a35-40bb-882d-44e9e5a375ff",
   "metadata": {},
   "source": [
    "#### `tuple`\n",
    "\n",
    "Es una agrupación de 1 o más valores, similar al concepto matemático de tupla. Pueden usarse para empaquetar varias valores, que además pueden ser de tipo diferente.\n",
    "\n",
    "Las tuplas, al igual que las `str` o  los `bytes`, son tipos inmutables: no pueden modificarse una vez inicializadas."
   ]
  },
  {
   "cell_type": "code",
   "execution_count": null,
   "id": "276f498a-c1c4-4cd4-8f54-4b0813282a27",
   "metadata": {
    "tags": []
   },
   "outputs": [
    {
     "data": {
      "text/plain": [
       "(5, b'Hello world', b'\\x00\\x01\\x02')"
      ]
     },
     "execution_count": 80,
     "metadata": {},
     "output_type": "execute_result"
    },
    {
     "data": {
      "text/plain": [
       "b'\\x00\\x01\\x02'"
      ]
     },
     "execution_count": 80,
     "metadata": {},
     "output_type": "execute_result"
    }
   ],
   "source": [
    "# Empaquetado de variables\n",
    "x = a, b, c\n",
    "x\n",
    "# Desempaquetado de variables\n",
    "x1, x2, x3 = x\n",
    "x3"
   ]
  },
  {
   "attachments": {},
   "cell_type": "markdown",
   "id": "fbb17366-a17a-4936-8c02-39b235a54d7a",
   "metadata": {},
   "source": [
    "#### `list`\n",
    "\n",
    "Una lista es la implementación en Python de los vectores o arrays de otros lenguajes. Al igual que las tuplas, permite que sus elementos sean de tipo diferente.\n",
    "\n",
    "Al contrario que los anteriores, las listas son mutables y pueden ser modificadas:"
   ]
  },
  {
   "cell_type": "code",
   "execution_count": null,
   "id": "a5c71c1f-fcf8-469d-8937-79e3f39884e3",
   "metadata": {
    "tags": []
   },
   "outputs": [
    {
     "data": {
      "text/plain": [
       "[1, 2, 3, 4]"
      ]
     },
     "execution_count": 92,
     "metadata": {},
     "output_type": "execute_result"
    }
   ],
   "source": [
    "l = [1, 2, 30, 4]\n",
    "l[2] = 3\n",
    "l"
   ]
  },
  {
   "attachments": {},
   "cell_type": "markdown",
   "id": "47bdf464-2eaa-4928-a5eb-e32df99d36ec",
   "metadata": {},
   "source": [
    "Las listas también permiten realizar operaciones de suma y multiplicación, entendidas como concatenación y repetición respectivamente."
   ]
  },
  {
   "cell_type": "code",
   "execution_count": null,
   "id": "ea91de0e-e9b4-447d-b734-66752a0660a2",
   "metadata": {
    "tags": []
   },
   "outputs": [
    {
     "data": {
      "text/plain": [
       "[1, 2, 3, 4, 5]"
      ]
     },
     "execution_count": 103,
     "metadata": {},
     "output_type": "execute_result"
    },
    {
     "data": {
      "text/plain": [
       "[1, 2, 3, 4, 1, 2, 3, 4]"
      ]
     },
     "execution_count": 103,
     "metadata": {},
     "output_type": "execute_result"
    },
    {
     "data": {
      "text/plain": [
       "[1, 2, 3, 4]"
      ]
     },
     "execution_count": 103,
     "metadata": {},
     "output_type": "execute_result"
    }
   ],
   "source": [
    "l + [5]\n",
    "l * 2\n",
    "l"
   ]
  },
  {
   "attachments": {},
   "cell_type": "markdown",
   "id": "4246254c-eae4-417d-adb6-d21e314b1e78",
   "metadata": {},
   "source": [
    "Todos los tipos de secuencia que hemos visto permiten el acceso a uno o varios elementos de la misma a través de índices del modo habitual, utilizando corchetes como ya se ha mostrado en algunos de elos ejemplos.\n",
    "\n",
    "Pero además, es posible hacer \"rodajas\" o _\"slicing\"_ o usar números negativos cómo índices:"
   ]
  },
  {
   "cell_type": "code",
   "execution_count": null,
   "id": "d212d769-56ec-4d30-85b0-e54020c56a61",
   "metadata": {
    "tags": []
   },
   "outputs": [
    {
     "data": {
      "text/plain": [
       "'a'"
      ]
     },
     "execution_count": 113,
     "metadata": {},
     "output_type": "execute_result"
    },
    {
     "data": {
      "text/plain": [
       "'o'"
      ]
     },
     "execution_count": 113,
     "metadata": {},
     "output_type": "execute_result"
    },
    {
     "data": {
      "text/plain": [
       "'Hola m'"
      ]
     },
     "execution_count": 113,
     "metadata": {},
     "output_type": "execute_result"
    },
    {
     "data": {
      "text/plain": [
       "'Hola m'"
      ]
     },
     "execution_count": 113,
     "metadata": {},
     "output_type": "execute_result"
    },
    {
     "data": {
      "text/plain": [
       "'Hl ud'"
      ]
     },
     "execution_count": 113,
     "metadata": {},
     "output_type": "execute_result"
    },
    {
     "data": {
      "text/plain": [
       "'onmao'"
      ]
     },
     "execution_count": 113,
     "metadata": {},
     "output_type": "execute_result"
    }
   ],
   "source": [
    "cadena = \"Hola mundo\"\n",
    "cadena[3]\n",
    "cadena[-1]\n",
    "cadena[0:6]\n",
    "cadena[:6]\n",
    "cadena[::2]\n",
    "cadena[::-2]"
   ]
  },
  {
   "cell_type": "markdown",
   "id": "f1f03658-8830-45cb-b0bf-920e8662d4c4",
   "metadata": {},
   "source": [
    "### Diccionarios\n",
    "\n",
    "Son tablas asociativas o _hash maps_. Tanto clave como valores pueden ser de cualquier tipo:"
   ]
  },
  {
   "cell_type": "code",
   "execution_count": null,
   "id": "726be88a-b5c3-4a16-9077-97dd2c804315",
   "metadata": {
    "tags": []
   },
   "outputs": [
    {
     "data": {
      "text/plain": [
       "{'antonio': 7.8, 'maria': 9}"
      ]
     },
     "execution_count": 122,
     "metadata": {},
     "output_type": "execute_result"
    },
    {
     "data": {
      "text/plain": [
       "9"
      ]
     },
     "execution_count": 122,
     "metadata": {},
     "output_type": "execute_result"
    }
   ],
   "source": [
    "notas = {\n",
    "    \"antonio\": 7.8,\n",
    "    \"maria\": 9,\n",
    "}\n",
    "notas\n",
    "notas[\"maria\"]"
   ]
  },
  {
   "cell_type": "markdown",
   "id": "aef5edbe-6285-4213-8a2b-a97564c617bc",
   "metadata": {},
   "source": [
    "Además, hay otros tipos de datos nativos como `set` para manejo de conjuntos, pilas, colas, listas multidimensionales..."
   ]
  },
  {
   "cell_type": "markdown",
   "id": "b0666092-350f-4912-b66c-deef1eb2547a",
   "metadata": {},
   "source": [
    "### Orientado a objetos\n",
    "\n",
    "Todos los tipos anteriores que hemos visto son clases en Python, y las variables, objetos de las mismas, y no son diferentes de cualquier clase y objeto que podamos definir nosotros."
   ]
  },
  {
   "cell_type": "markdown",
   "id": "2a8dd418-319d-49da-abcd-cb4cb279a459",
   "metadata": {},
   "source": [
    "## Módulos\n",
    "\n",
    "Al igual que en otros lenguajes, Python permite agrupar el código dentro de ficheros y directorios. En Python llamamos **módulo** a un fichero con código Python. Los módulos se pueden importar desde otro módulo usando la sentencia `import`.\n",
    "\n",
    "Los módulos pueden agruparse también en \"paquetes\"."
   ]
  },
  {
   "cell_type": "markdown",
   "id": "c872c1e9-9174-4677-a6bc-fa0852ec2e0a",
   "metadata": {},
   "source": [
    "## Estructuras de control\n",
    "\n",
    "Están disponibles todas aquellas que ya son habituales en otros lenguajes: `if`, `if-else`, `if-elif-else`, `for`, `while`, saltos incondicionales con `break` o `continue`,`return` y `yield` para generadores.\n",
    "\n",
    "Todas estas estructuras de control funcionan de la forma habitual, a excepción del `for` que tiene una sintaxis diferente a la habitual de C:"
   ]
  },
  {
   "cell_type": "code",
   "execution_count": null,
   "id": "5eba6734-f140-49d9-b225-61924493f60b",
   "metadata": {},
   "outputs": [
    {
     "name": "stdout",
     "output_type": "stream",
     "text": [
      "oro\n",
      "plata\n",
      "bronce\n"
     ]
    }
   ],
   "source": [
    "metales = [\"oro\", \"plata\", \"bronce\"]\n",
    "\n",
    "for metal in metales:\n",
    "    print(metal)"
   ]
  },
  {
   "cell_type": "markdown",
   "id": "63d3384b-5426-42af-8a67-1ac9e69f9ba9",
   "metadata": {},
   "source": [
    "En Python también tenemos el operador ternario para sustituir los típicos bloques `if-else` que se utilizan para realizar una asignación:"
   ]
  },
  {
   "cell_type": "code",
   "execution_count": null,
   "id": "52541a9b-ce8c-4adf-83da-4ac021aea39f",
   "metadata": {},
   "outputs": [
    {
     "data": {
      "text/plain": [
       "10"
      ]
     },
     "execution_count": 142,
     "metadata": {},
     "output_type": "execute_result"
    }
   ],
   "source": [
    "valor = 10 if 5 > 0 else 0\n",
    "valor"
   ]
  },
  {
   "cell_type": "markdown",
   "id": "15662889-9f12-4c23-963c-b399c41c0878",
   "metadata": {},
   "source": [
    "## Excepciones\n",
    "\n",
    "Las exceptiones en Python son objetos, por lo que podemos definir clases que hereden nuevas formas de excepción personalizadas y capturarlas en nuestros programas si es necesario.\n",
    "\n",
    "La sintaxis de captura de excepciones es similar a otros lenguajes:\n",
    "\n",
    "- `try`: es el bloque donde sabemos que puede producirse una o varias excepciones que queremos controlar.\n",
    "- `except`: podemos tener varios bloques de captura de excepción. También podemos capturar varias en un sólo bloque o capturar cualquiera, aunque esto último no se recomienda.\n",
    "- `else`: se coloca tras el último bloque `except` y se ejecutará siempre que el bloque `try` no haya producido ninguna excepción.\n",
    "- `finally`: se coloca al final y, si está definido, se ejecuta tanto si ocurre alguna excepción como si no. En caso de no haberla, se ejecuta tras el código del bloque `else`."
   ]
  },
  {
   "cell_type": "code",
   "execution_count": null,
   "id": "772d6d3c-360c-4d6d-92c4-78b59fb2ca5e",
   "metadata": {
    "tags": []
   },
   "outputs": [
    {
     "name": "stdout",
     "output_type": "stream",
     "text": [
      "Exception catch\n",
      "1 is not equal to 2\n",
      "This will be always executed\n"
     ]
    }
   ],
   "source": [
    "try:\n",
    "    assert 2 == 1, \"1 is not equal to 2\"\n",
    "    print(\"This shouln't happen\")\n",
    "except AssertionError as ex:\n",
    "    print(\"Exception catch\")\n",
    "    print(ex)\n",
    "except Exception as ex:\n",
    "    print(\"Unexpected error: %s\", ex)\n",
    "else:\n",
    "    print(\"Everything went well\")\n",
    "finally:\n",
    "    print(\"This will be always executed\")"
   ]
  },
  {
   "cell_type": "markdown",
   "id": "70d2ad74-306c-4bae-8cef-5a3d7def5371",
   "metadata": {},
   "source": [
    "## Funciones\n",
    "\n",
    "La sintaxis para definir una función es la siguiente:"
   ]
  },
  {
   "cell_type": "code",
   "execution_count": null,
   "id": "b40602c1-98d9-4bc6-99dd-8b9c3e18aac1",
   "metadata": {
    "tags": []
   },
   "outputs": [
    {
     "data": {
      "text/plain": [
       "3628800"
      ]
     },
     "execution_count": 148,
     "metadata": {},
     "output_type": "execute_result"
    }
   ],
   "source": [
    "def factorial(n):\n",
    "    \"\"\"Calculate the factorial for the number n recursively\"\"\"\n",
    "    if n == 0:\n",
    "        return 1\n",
    "    \n",
    "    return n * factorial(n-1)\n",
    "\n",
    "\n",
    "factorial(10)"
   ]
  },
  {
   "cell_type": "markdown",
   "id": "3aab6802-2142-4156-a6ba-3e23e2b173c6",
   "metadata": {},
   "source": [
    "## Python is different\n",
    "\n",
    "Cuando se empieza a utilizar Python solemos hacerlo de manera muy parecida a los lenguajes tradicionales. Sin embargo, hay formas más \"pythónicas\" de implementar las cosas."
   ]
  },
  {
   "cell_type": "code",
   "execution_count": null,
   "id": "633eeaee-2731-4554-bbca-b82ffb5def7a",
   "metadata": {
    "tags": []
   },
   "outputs": [
    {
     "data": {
      "text/plain": [
       "3628800"
      ]
     },
     "execution_count": 152,
     "metadata": {},
     "output_type": "execute_result"
    }
   ],
   "source": [
    "from functools import reduce\n",
    "from operator import mul\n",
    "factorial = lambda n: reduce(mul, range(1, n+1), 1)\n",
    "\n",
    "factorial(10)"
   ]
  },
  {
   "cell_type": "markdown",
   "id": "60baefd2-49c9-4abb-ac3f-1ccc81d5de84",
   "metadata": {},
   "source": [
    "También podemos generar listas o diccionarios utilizando la sintaxis _\"comprehension\"_:"
   ]
  },
  {
   "cell_type": "code",
   "execution_count": null,
   "id": "6ecac5f6-8fec-4d99-8123-34a7175c495a",
   "metadata": {
    "tags": []
   },
   "outputs": [
    {
     "data": {
      "text/plain": [
       "[2, 4, 6, 8, 10]"
      ]
     },
     "execution_count": 155,
     "metadata": {},
     "output_type": "execute_result"
    },
    {
     "data": {
      "text/plain": [
       "{1: 1, 2: 8, 3: 27, 4: 64, 5: 125, 6: 216, 7: 343, 8: 512, 9: 729, 10: 1000}"
      ]
     },
     "execution_count": 155,
     "metadata": {},
     "output_type": "execute_result"
    }
   ],
   "source": [
    "even = [x for x in range(1, 11) if x % 2 == 0]\n",
    "even\n",
    "\n",
    "fast_cubes = {x: x**3 for x in range(1, 11)}\n",
    "fast_cubes"
   ]
  },
  {
   "attachments": {},
   "cell_type": "markdown",
   "id": "796401e5",
   "metadata": {},
   "source": [
    "## Python y los tipos\n",
    "\n",
    "En las funciones y métodos Python no se indica el tipo de los argumentos que recibe o el del valor que devuelve. En cierto modo, se asume que se va a invocar del modo correcto, es decir, no hace comprobación de tipos (*type checking*).\n",
    "\n",
    "Si bien esto le da mucha flexibilidad, a la hora de validar una llamada o documentar un API de módulo o clase puede ser un problema, por lo que desde hace unos años se introdujo el llamado _hinting_ de tipos.\n",
    "\n",
    "Sin embargo cuando indicamos el tipo mediante _hinting_ solo estamos haciendo una anotación y no tiene ningún efecto aparente. Si realmente queremos typechecking y forzar la correspondencia de tipos, tendremos que utilizar herramientas externas como `mypy`, que hace esa verificación estática del código."
   ]
  },
  {
   "attachments": {},
   "cell_type": "markdown",
   "id": "86f32e9e",
   "metadata": {},
   "source": [
    "Esta sería una versión de la función `factorial()` con *type hinting* y una llamada incorrecta (que guardamos en el fichero `factorial.py`):"
   ]
  },
  {
   "cell_type": "code",
   "execution_count": null,
   "id": "acedb8fc-0251-453f-90f9-b0f875c75534",
   "metadata": {
    "tags": []
   },
   "outputs": [
    {
     "name": "stdout",
     "output_type": "stream",
     "text": [
      "Overwriting factorial.py\n"
     ]
    }
   ],
   "source": [
    "%%file factorial.py\n",
    "\n",
    "def factorial(n: int) -> int:\n",
    "    return 1 if n == 0 else n * factorial(n-1)\n",
    "\n",
    "factorial(\"hola\")"
   ]
  },
  {
   "attachments": {},
   "cell_type": "markdown",
   "id": "7a5771ce",
   "metadata": {},
   "source": [
    "Instalamos `mypy` para poder probar la comprobación de tipos."
   ]
  },
  {
   "cell_type": "code",
   "execution_count": null,
   "id": "9cd4bd7f",
   "metadata": {},
   "outputs": [
    {
     "name": "stdout",
     "output_type": "stream",
     "text": [
      "Requirement already satisfied: mypy in /home/david/.local/share/virtualenvs/net-book-bM-vswVT/lib/python3.9/site-packages (1.0.1)\n",
      "Requirement already satisfied: tomli>=1.1.0 in /home/david/.local/share/virtualenvs/net-book-bM-vswVT/lib/python3.9/site-packages (from mypy) (2.0.1)\n",
      "Requirement already satisfied: typing-extensions>=3.10 in /home/david/.local/share/virtualenvs/net-book-bM-vswVT/lib/python3.9/site-packages (from mypy) (4.5.0)\n",
      "Requirement already satisfied: mypy-extensions>=0.4.3 in /home/david/.local/share/virtualenvs/net-book-bM-vswVT/lib/python3.9/site-packages (from mypy) (1.0.0)\n"
     ]
    }
   ],
   "source": [
    "! pip install mypy"
   ]
  },
  {
   "attachments": {},
   "cell_type": "markdown",
   "id": "61602f9d",
   "metadata": {},
   "source": [
    "Y veamos qué ocurre cuando analizamos el código:"
   ]
  },
  {
   "cell_type": "code",
   "execution_count": null,
   "id": "c47233a5",
   "metadata": {},
   "outputs": [
    {
     "name": "stdout",
     "output_type": "stream",
     "text": [
      "factorial.py:5: \u001b[1m\u001b[31merror:\u001b[m Argument 1 to \u001b[m\u001b[1m\"factorial\"\u001b[m has incompatible type \u001b[m\u001b[1m\"str\"\u001b[m; expected \u001b[m\u001b[1m\"int\"\u001b[m  \u001b[m\u001b[33m[arg-type]\u001b[m\n",
      "\u001b[1m\u001b[31mFound 1 error in 1 file (checked 1 source file)\u001b[m\n"
     ]
    }
   ],
   "source": [
    "! mypy factorial.py"
   ]
  },
  {
   "attachments": {},
   "cell_type": "markdown",
   "id": "5d71e46b-2741-4c9c-bd41-f2f36c249cc6",
   "metadata": {},
   "source": [
    "## Depuración\n",
    "\n",
    "Como cualquier otro lenguaje, Python tiene soporte para depuración, incluso con llamadas nativas en el lenguaje.\n",
    "\n",
    "Existe la función `breakpoint()`, que al ser ejecutada detiene el hilo del programa en la que se encuentra y permite iniciar una sesión del depurador `pdb`, que nos permite ver los valores de las variables, inspeccionar el segmento de código cercano al punto de interrupción, ejecutar paso a paso, etc. Este soporte es bastante rudimentario y suele ser aconsejable utilizar un IDE que lo tenga integrado.\n",
    "\n",
    "## Y no se queda aquí...\n",
    "\n",
    "Python incluye una librería estándar muy amplia donde podemos encontrar librerías para una variedad inabarcable de usos para una introducción. Algunos destacados son:\n",
    "\n",
    "- `socket`: utilización de _sockets_ de red, con soporte para TCP, UDP, IP, Ethernet...\n",
    "- `struct`: serialización binaria de datos\n",
    "- `json`: conversión entre estructuras de datos del lenguaje y cadenas JSON, un formato ampliamente utilizado en Internet en APIs HTTP.\n",
    "- `threading`: ejecución paralela de código a través de hilos.\n",
    "- `multiprocessing`: una aproximación diferente al trabajo con subprocesos.\n",
    "- `subprocess`: uso de subprocesos de una forma más tradicional y apegada a los estándares POSIX.\n",
    "- `asyncio`: módulos para la programación asíncrona.\n",
    "- `sys`: acceso a llamadas típicas del sistema (salida del programa, línea de argumentos).\n",
    "- `os`: acceso a variables de entorno, generación de rutas de archivos...\n",
    "- `re`: manejo de expresiones regulares.\n",
    "- `time`: funciones relacionadas con la medición de tiempos relativos.\n",
    "- `datetime`: funciones relacionadas con la medición de tiempos absolutos y su conversión a fechas.\n",
    "- `math` y `cmath`: módulos para funciones matemáticas reales y con números complejos respectivamente.\n",
    "- `random`: generador de números aleatorios.\n",
    "- `sqlite3`: acceso a bases de datos SQLite.\n",
    "- `urllib`: operaciones HTTP\n",
    "- `cmd`: creación de programas interactivos en línea de comandos.\n",
    "- `tkinter`: creación de interfaces gráficas de usuario.\n",
    "- `pdb`: depurador de código\n",
    "\n",
    "¡Y mucho más!"
   ]
  }
 ],
 "metadata": {
  "kernelspec": {
   "display_name": "net-book-bM-vswVT",
   "language": "python",
   "name": "python3"
  },
  "language_info": {
   "codemirror_mode": {
    "name": "ipython",
    "version": 3
   },
   "file_extension": ".py",
   "mimetype": "text/x-python",
   "name": "python",
   "nbconvert_exporter": "python",
   "pygments_lexer": "ipython3",
   "version": "3.9.2"
  },
  "vscode": {
   "interpreter": {
    "hash": "4cd0ec5e5d696061b7d4928622f1e0a2170e333009c473e8a1c2c4dfb141603d"
   }
  }
 },
 "nbformat": 4,
 "nbformat_minor": 5
}

{
 "cells": [
  {
   "cell_type": "markdown",
   "id": "4813b953-707b-4ec7-9da6-a4fea5435196",
   "metadata": {
    "tags": []
   },
   "source": [
    "# Chat UDP\n",
    "\n",
    "En esta sesión de laboratorio vamos a realizar un ejemplo mínimo de programación con sockets en Python3. Todo (o casi todo) lo que vamos a realizar en esta sesión se podría realizar utilizando herramientas de terminal como `ncat`, pero el objetivo es dar unos primeros pasos con Python 3 y la utilización de la librería `socket` para realizar conexiones de red.\n",
    "\n",
    "## ¿Por qué UDP?\n",
    "\n",
    "Como ya os sonará de la asignatura Redes 1, en la **capa de transporte** de la pila TCP/IP existen 2 protocolos principales: _Transport Control Protocol_, o TCP, y _User Datagram Protocol_, o UDP.\n",
    "\n",
    "La principal similitud entre ambos protocolos es que ambos utilizan un número natural como direccionamiento: el puerto. En ambos protocolos el valor del puerto puede ir desde 0 a 65536.\n",
    "\n",
    "En cuanto a difrencias, el transporte realizado mediante TCP está orientado a conexión: existen dentro del protocolo una serie de herramientas para comprobar que los mensajes que se envían son recibidos por el destinatario, y herramientas para que si no se tiene esa confirmación, se reenvíe el paquete.\n",
    "\n",
    "En cuanto a UDP, **no está orientado a conexión**, no dispone de herramientas para comprobar que un mensaje ha sido recibido y entregado al destinatario, ni siquiera sabemos si el destinatario está o no escuchando en su puerto.\n",
    "\n",
    "En esta sesión vamos a utilizar UDP por su simplicidad para una primera aproximación.\n",
    "\n",
    "## Hello world\n",
    "\n",
    "En éste primer ejemplo vamos a escribir dos programas que se comuniquen a través de UDP con las siguientes características:\n",
    "\n",
    "- Un cliente que envíe un mensaje que contenga la palabra \"hello\".\n",
    "- Un servidor que imprima el mensaje recibido por la pantalla en el terminal.\n",
    "\n",
    "### El cliente"
   ]
  },
  {
   "cell_type": "code",
   "execution_count": 1,
   "id": "2594922a-9d53-4419-b4b2-3186c3c9b7de",
   "metadata": {
    "tags": []
   },
   "outputs": [],
   "source": [
    "#!/usr/bin/env python3\n",
    "\n",
    "from socket import socket, AF_INET, SOCK_DGRAM  # Importamos del módulo socket la clase socket y las constantes para sockets IP y datagramas\n",
    "\n",
    "sock = socket(AF_INET, SOCK_DGRAM)  # Creamos el socket de familia IP, tipo UDP (datagrama)\n",
    "destination_address = (\"localhost\", 12345)  # Definimos la direccion de destino con una tupla de IP y puerto\n",
    "\n",
    "\n",
    "sock.sendto(b\"hello\", destination_address)  # Enviamos la secuencia de bytes representada por \"hello\" a la dirección indicada anteriormente\n",
    "sock.close()"
   ]
  },
  {
   "cell_type": "markdown",
   "id": "548344be-2cd6-451a-8b68-1533a1abf43e",
   "metadata": {},
   "source": [
    "Para poder ejecutar el ejemplo anterior, copiarlo y pegarlo en un editor de texto, guardar el fichero y dadle permisos. También podéis descargarlo desde [1](src/udp-chat/client1.py).\n",
    "\n",
    "```bash\n",
    "chmod u+x client1.py\n",
    "./client.py\n",
    "```\n",
    "\n",
    "### El servidor"
   ]
  },
  {
   "cell_type": "code",
   "execution_count": null,
   "id": "89ec8643-ba86-49b1-bb43-c5f9ac097194",
   "metadata": {
    "tags": []
   },
   "outputs": [],
   "source": [
    "#!/usr/bin/env python3\n",
    "\n",
    "from socket import socket, AF_INET, SOCK_DGRAM\n",
    "\n",
    "sock = socket(AF_INET, SOCK_DGRAM)\n",
    "sock.bind((\"\", 12345))  # Con esta línea le decimos al socket que queremos usar el puerto 12345 para escuchar mensajes\n",
    "\n",
    "message, client = sock.recvfrom(1024)  # El método devolvera una tupla con el mensaje recibido y la dirección del cliente. 1024 es el tamaño del buffer de recepción.\n",
    "\n",
    "print(f\"{message.decode()} from {client}\")\n",
    "\n",
    "sock.close()"
   ]
  },
  {
   "cell_type": "markdown",
   "id": "84f3a439-115c-43d0-bcc9-d2d4dd48519e",
   "metadata": {},
   "source": [
    "Al igual que el ejemplo anterior, puede descargarse desde [2](src/udp-chat/server1.py) o copiar y pegar el código en un fichero nuevo y darle permisos de la misma manera:\n",
    "\n",
    "```bash\n",
    "chmod u+x server1.py\n",
    "./server.py\n",
    "```"
   ]
  },
  {
   "cell_type": "markdown",
   "id": "356cf111-fce6-49e3-a28e-c1a8e5bb7f44",
   "metadata": {},
   "source": [
    "## Hello world con respuesta\n",
    "\n",
    "A continuación vamos a modificar el código anterior para que el servidor envíe una respuesta al cliente. Además, el cliente mostrará dicha respuesta por su salida estándar:"
   ]
  },
  {
   "cell_type": "code",
   "execution_count": null,
   "id": "b6d678d3-7730-4405-a45f-c5dc685d4171",
   "metadata": {},
   "outputs": [],
   "source": [
    "#!/usr/bin/env python3\n",
    "\n",
    "from socket import socket, AF_INET, SOCK_DGRAM\n",
    "\n",
    "sock = socket(AF_INET, SOCK_DGRAM)\n",
    "\n",
    "sock.sendto(\"Hello\".encode(), (\"localhost\", 12345))\n",
    "\n",
    "msg, server = sock.recvfrom(1024)\n",
    "print(msg.decode(), \" from \", server)\n",
    "\n",
    "sock.close()"
   ]
  },
  {
   "cell_type": "code",
   "execution_count": null,
   "id": "997309f0-3aa8-4840-988a-f563529c0a09",
   "metadata": {},
   "outputs": [],
   "source": [
    "#!/usr/bin/env python3\n",
    "\n",
    "from socket import socket, AF_INET, SOCK_DGRAM\n",
    "\n",
    "sock = socket(AF_INET, SOCK_DGRAM)\n",
    "sock.bind((\"\", 12345))\n",
    "\n",
    "msg, client = sock.recvfrom(1024)\n",
    "print(msg.decode(), \" from \", client)\n",
    "\n",
    "sock.sendto(\"hi there\".encode(), client)\n",
    "\n",
    "sock.close()"
   ]
  },
  {
   "cell_type": "markdown",
   "id": "45a9a86a-0ec0-43b9-a64c-babc93ff5b26",
   "metadata": {},
   "source": [
    "## Entrada de usuario\n",
    "\n",
    "Ahora vamos a escribir una pequeña aplicación de chat cliente-servidor. Deberá cumplir con lo siguiente:\n",
    "\n",
    "- Comunicación bidireccional, pero no simultánea (el cliente inicia la conversación).\n",
    "- La aplicación termina si cualquiera de los dos envía la cadena \"bye\".\n",
    "\n",
    "### Pistas\n",
    "- Para leer una cadena desde la entrada estándar desde un programa python usaremos la función `input()`.\n",
    "- Para terminar un bucle podemos utilizar `break`."
   ]
  },
  {
   "cell_type": "markdown",
   "id": "69a25a3f-378c-418d-945e-e823647756c2",
   "metadata": {},
   "source": [
    "## Simultáneos\n",
    "\n",
    "Modificaremos el ejercicio anterior de manera que cualquiera de los pares sea capaz de enviar y recibir en cualquier momento (no por turnos).\n",
    "\n",
    "### Pistas\n",
    "\n",
    "- Usaremos hilos"
   ]
  }
 ],
 "metadata": {
  "kernelspec": {
   "display_name": "Python 3 (ipykernel)",
   "language": "python",
   "name": "python3"
  },
  "language_info": {
   "codemirror_mode": {
    "name": "ipython",
    "version": 3
   },
   "file_extension": ".py",
   "mimetype": "text/x-python",
   "name": "python",
   "nbconvert_exporter": "python",
   "pygments_lexer": "ipython3",
   "version": "3.11.1"
  }
 },
 "nbformat": 4,
 "nbformat_minor": 5
}
